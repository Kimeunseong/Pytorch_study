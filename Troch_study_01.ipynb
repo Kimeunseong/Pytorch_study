{
 "cells": [
  {
   "cell_type": "markdown",
   "id": "44a0dd40-6a77-4f59-ac01-8b453ac41e7d",
   "metadata": {},
   "source": [
    "# Torch Study 01\n",
    "## 텐서 생성 및 변환"
   ]
  },
  {
   "cell_type": "code",
   "execution_count": 6,
   "id": "3b96c11c-251c-42c2-8c9b-ebdca118c24c",
   "metadata": {},
   "outputs": [
    {
     "name": "stdout",
     "output_type": "stream",
     "text": [
      "tensor([[1, 2],\n",
      "        [3, 4]])\n",
      "tensor([[1, 2],\n",
      "        [3, 4]], device='mps:0')\n",
      "tensor([[1., 2.],\n",
      "        [3., 4.]], dtype=torch.float64)\n"
     ]
    }
   ],
   "source": [
    "import torch\n",
    "\n",
    "print(torch.tensor([[1,2], [3,4]])) # 2차원 형태의 텐서 생성\n",
    "print(torch.tensor([[1,2], [3,4]], device=\"mps\")) # GPU에 텐서 생성\n",
    "print(torch.tensor([[1,2], [3,4]], dtype=torch.float64)) # dtype을 이용하여 텐서 생성"
   ]
  },
  {
   "cell_type": "code",
   "execution_count": 9,
   "id": "13b68505-b894-4825-a610-4454db8110a8",
   "metadata": {},
   "outputs": [
    {
     "name": "stdout",
     "output_type": "stream",
     "text": [
      "[[1 2]\n",
      " [3 4]]\n",
      "[[1 2]\n",
      " [3 4]]\n"
     ]
    }
   ],
   "source": [
    "# 텐서를 ndarray로 변환\n",
    "\n",
    "temp = torch.tensor([[1,2], [3,4]])\n",
    "print(temp.numpy()) # 텐서를 ndarray로 변환\n",
    "\n",
    "temp = torch.tensor([[1,2], [3,4]], device='mps')\n",
    "print(temp.to(\"cpu\").numpy()) # GPU상의 텐서를 cpu의 텐서로 변환 후 ndarray로 변환"
   ]
  },
  {
   "cell_type": "code",
   "execution_count": 12,
   "id": "0409eb29-c59e-4e92-af07-7cbfce6aff7f",
   "metadata": {},
   "outputs": [
    {
     "name": "stdout",
     "output_type": "stream",
     "text": [
      "tensor(1.) tensor(2.) tensor(7.)\n",
      "--------------------------\n",
      "tensor([3., 4., 5.]) tensor([5., 6.])\n"
     ]
    }
   ],
   "source": [
    "# 텐서의 인덱스 조작\n",
    "\n",
    "temp = torch.FloatTensor([1,2,3,4,5,6,7]) # 파이토치로 1차원 벡터 생성\n",
    "print(temp[0], temp[1], temp[-1]) # 인덱스로 접근\n",
    "print('--------------------------')\n",
    "print(temp[2:5], temp[4:-1]) # 슬라이스로 접근"
   ]
  },
  {
   "cell_type": "code",
   "execution_count": 13,
   "id": "60b363cd-4af9-4fd5-a0bf-97375a31501f",
   "metadata": {},
   "outputs": [
    {
     "name": "stdout",
     "output_type": "stream",
     "text": [
      "tensor([2, 2, 3])\n"
     ]
    }
   ],
   "source": [
    "# 텐서 연산 및 차원 조작\n",
    "# 참고: 텐서 간의 타입이 다르면 연산이 불가능\n",
    "\n",
    "v = torch.tensor([1,2,3]) # 길이가 3인 벡터 생성\n",
    "w = torch.tensor([3,4,6])\n",
    "print(w - v) # 길이가 같은 벡터 간 뺄셈 연산"
   ]
  },
  {
   "cell_type": "code",
   "execution_count": 22,
   "id": "f36eed62-b185-4128-8e51-7fbad43d0446",
   "metadata": {},
   "outputs": [
    {
     "name": "stdout",
     "output_type": "stream",
     "text": [
      "torch.Size([2, 2])\n",
      "--------------------------\n",
      "tensor([[1],\n",
      "        [2],\n",
      "        [3],\n",
      "        [4]])\n",
      "--------------------------\n",
      "tensor([1, 2, 3, 4])\n",
      "--------------------------\n",
      "tensor([[1, 2, 3, 4]])\n",
      "--------------------------\n",
      "tensor([[1],\n",
      "        [2],\n",
      "        [3],\n",
      "        [4]])\n"
     ]
    }
   ],
   "source": [
    "# 텐서의 차원을 조작하는 코드\n",
    "\n",
    "temp = torch.tensor([[1,2,], [3,4]]) # 2*2 행렬 생성\n",
    "\n",
    "print(temp.shape)\n",
    "print('--------------------------')\n",
    "\n",
    "print(temp.view(4,1)) # 2*2 행렬을 4*1로 변형\n",
    "print('--------------------------')\n",
    "\n",
    "print(temp.view(-1)) # 2*2 행렬을 1차원 벡터로 변형\n",
    "print('--------------------------')\n",
    "\n",
    "print(temp.view(1, -1)) # -1은 (1,?)와 같은 의미로 다른 차원으로부터 해당 값을 유추하겠다는 것. \n",
    "                        # temp의 원소 개수(2*2=4)를 유지한 채 (1, ?)의 형태를 만족해야 하므로,(1,4)가 된다.\n",
    "print('--------------------------')\n",
    "\n",
    "print(temp.view(-1, 1)) # 위와 마찬가지로, (?,1)의 의미로 temp의 원소 개수(2*2=4)를 유지한 채 (?,1)의 형태를 만족해야 하므로, (4,1)이 된다."
   ]
  },
  {
   "cell_type": "code",
   "execution_count": null,
   "id": "540861d4-4081-46f8-b6af-ea58eaa24a38",
   "metadata": {},
   "outputs": [],
   "source": []
  }
 ],
 "metadata": {
  "kernelspec": {
   "display_name": "Python 3 (ipykernel)",
   "language": "python",
   "name": "python3"
  },
  "language_info": {
   "codemirror_mode": {
    "name": "ipython",
    "version": 3
   },
   "file_extension": ".py",
   "mimetype": "text/x-python",
   "name": "python",
   "nbconvert_exporter": "python",
   "pygments_lexer": "ipython3",
   "version": "3.11.5"
  }
 },
 "nbformat": 4,
 "nbformat_minor": 5
}
